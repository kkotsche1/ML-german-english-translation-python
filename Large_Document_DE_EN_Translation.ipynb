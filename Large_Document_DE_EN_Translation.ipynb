{
  "nbformat": 4,
  "nbformat_minor": 0,
  "metadata": {
    "colab": {
      "provenance": []
    },
    "kernelspec": {
      "name": "python3",
      "display_name": "Python 3"
    },
    "language_info": {
      "name": "python"
    }
  },
  "cells": [
    {
      "cell_type": "code",
      "execution_count": null,
      "metadata": {
        "id": "u4ZqMcJ2W1xK"
      },
      "outputs": [],
      "source": [
        "!pip install -q dl-translate\n",
        "!pip install -q transformers\n",
        "!pip install -q sacremoses"
      ]
    },
    {
      "cell_type": "code",
      "source": [
        "import os\n",
        "import time\n",
        "from tqdm import tqdm\n",
        "import nltk\n",
        "\n",
        "nltk.download('punkt')\n",
        "nltk.download('averaged_perceptron_tagger')\n",
        "nltk.download('maxent_ne_chunker')\n",
        "nltk.download('words')"
      ],
      "metadata": {
        "id": "bwMVlz9fW7_t"
      },
      "execution_count": null,
      "outputs": []
    },
    {
      "cell_type": "code",
      "source": [
        "with open('Path/To/German/.txt/File', 'r', encoding='utf-8') as f:\n",
        "    german_text = f.read()\n",
        "\n",
        "sentences = nltk.sent_tokenize(german_text, language='german')"
      ],
      "metadata": {
        "id": "bE3ZNsnIW-Sr"
      },
      "execution_count": null,
      "outputs": []
    },
    {
      "cell_type": "code",
      "source": [
        "from transformers import FSMTForConditionalGeneration, FSMTTokenizer\n",
        "import nltk\n",
        "\n",
        "mname = \"facebook/wmt19-de-en\"\n",
        "tokenizer = FSMTTokenizer.from_pretrained(mname)\n",
        "model = FSMTForConditionalGeneration.from_pretrained(mname).to(\"cuda\")\n",
        "\n",
        "# Translate each chunk and save the results to a new file\n",
        "with open('/out/path.txt', 'w', encoding='utf-8') as f:\n",
        "    for chunk in tqdm(sentences):\n",
        "          input = chunk\n",
        "          input_ids = tokenizer.encode(input, return_tensors=\"pt\").to(\"cuda\")\n",
        "          outputs = model.generate(input_ids)\n",
        "          decoded = tokenizer.decode(outputs[0], skip_special_tokens=True)\n",
        "          f.write(decoded + \" \")\n"
      ],
      "metadata": {
        "id": "3cQtnOLDXEcw"
      },
      "execution_count": null,
      "outputs": []
    }
  ]
}